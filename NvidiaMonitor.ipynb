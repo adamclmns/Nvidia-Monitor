{
 "cells": [
  {
   "cell_type": "code",
   "execution_count": 1,
   "metadata": {
    "collapsed": false
   },
   "outputs": [],
   "source": [
    "import pynvml as nvml\n",
    "import datetime \n",
    "import time"
   ]
  },
  {
   "cell_type": "code",
   "execution_count": 2,
   "metadata": {
    "collapsed": true
   },
   "outputs": [],
   "source": [
    "from __future__ import print_function\n",
    "from ipywidgets import interact, interactive, fixed\n",
    "import ipywidgets as widgets"
   ]
  },
  {
   "cell_type": "code",
   "execution_count": 3,
   "metadata": {
    "collapsed": false
   },
   "outputs": [],
   "source": [
    "class DataWriter():\n",
    "    def __init__(self, filename):\n",
    "        self.filename = filename\n",
    "        if self.filename == \"\":\n",
    "            self.filename=self.getfileName()+\".csv\"\n",
    "\n",
    "    def appendRecord(self, record):\n",
    "        file = open(self.filename, 'a')\n",
    "        file.write(record)\n",
    "        file.write(\"\\n\")\n",
    "        file.close()\n",
    "\n",
    "    @staticmethod\n",
    "    def addColumnToRecord(string):\n",
    "        return string + \",\"\n",
    "\n",
    "    @staticmethod\n",
    "    def getDateTimeString():\n",
    "        return datetime.datetime.now().strftime(\"%Y-%m-%d %H:%M:%S.%f\")\n",
    "\n",
    "    @staticmethod\n",
    "    def getfileName():\n",
    "        return datetime.datetime.now().strftime(\"%Y-%m-%d-%H-%M\")"
   ]
  },
  {
   "cell_type": "code",
   "execution_count": 4,
   "metadata": {
    "collapsed": false
   },
   "outputs": [],
   "source": [
    "class NvidiaGPUMonitor():\n",
    "\n",
    "    def __init__(self, name=\"\"):\n",
    "        self.filename = name\n",
    "        try:\n",
    "            nvml.nvmlShutdown()\n",
    "        except nvml.NVMLError_Uninitialized, err:\n",
    "            print(\"No existing instance found\")\n",
    "        try:\n",
    "            nvml.nvmlInit()\n",
    "            self.gpuCount = int(nvml.nvmlDeviceGetCount())\n",
    "            \n",
    "            self.dataWriter = DataWriter(self.filename)\n",
    "            self._initializeData()\n",
    "        except nvml.NVMLError, err:\n",
    "            print(\"Failed to initialize NVML: \", err)\n",
    "            print(\"Exiting...\")\n",
    "\n",
    "    def _initializeData(self):\n",
    "        self.dataWriter.appendRecord(\"Time, GPU Index, Temp C, GPU %, Memory %\")\n",
    "\n",
    "    @staticmethod\n",
    "    def closeConnection():\n",
    "        try:\n",
    "            nvml.nvmlShutdown()\n",
    "        except nvml.VMLError, err:\n",
    "            print(\"Error shutting down NVML:\")\n",
    "            \n",
    "\n",
    "    @staticmethod\n",
    "    def getTemperature(gpu):\n",
    "        return str(nvml.nvmlDeviceGetTemperature(gpu, nvml.NVML_TEMPERATURE_GPU))\n",
    "\n",
    "    @staticmethod\n",
    "    def getUsedMemory(gpu):\n",
    "        return str(nvml.nvmlDeviceGetUtilizationRates(gpu).memory)\n",
    "\n",
    "    @staticmethod\n",
    "    def getUsedCore(gpu):\n",
    "        return str(nvml.nvmlDeviceGetUtilizationRates(gpu).gpu)\n",
    "\n",
    "\n",
    "\n",
    "    def getDataPoint(self, gpuSelection):\n",
    "        index = 0\n",
    "        gpu = nvml.nvmlDeviceGetHandleByIndex(0)\n",
    "        outputRecord = self.dataWriter.getDateTimeString() + \",\"+ \"GPU\"+str(index) +\",\" + self.getTemperature(gpu) + ',' +self.getUsedCore(gpu) + ',' +self.getUsedMemory(gpu)\n",
    "\n",
    "        self.dataWriter.appendRecord(outputRecord)\n"
   ]
  },
  {
   "cell_type": "code",
   "execution_count": 5,
   "metadata": {
    "collapsed": false
   },
   "outputs": [
    {
     "name": "stdout",
     "output_type": "stream",
     "text": [
      "No existing instance found\n",
      "Collecting data...\n",
      "Done Collecting...\n"
     ]
    }
   ],
   "source": [
    "def main():\n",
    "    gpu = NvidiaGPUMonitor()\n",
    "    # Create headers, would like to do this automatically later\n",
    "    print(\"Collecting data...\")\n",
    "    while(True):\n",
    "        time.sleep(2)\n",
    "        gpu.getDataPoint(0)\n",
    "\n",
    "try:\n",
    "    main()\n",
    "except KeyboardInterrupt:\n",
    "    \n",
    "    print(\"Done Collecting...\")\n",
    "    \n",
    "    #Graph some Data"
   ]
  },
  {
   "cell_type": "code",
   "execution_count": null,
   "metadata": {
    "collapsed": true
   },
   "outputs": [],
   "source": []
  },
  {
   "cell_type": "code",
   "execution_count": null,
   "metadata": {
    "collapsed": true
   },
   "outputs": [],
   "source": []
  }
 ],
 "metadata": {
  "anaconda-cloud": {},
  "kernelspec": {
   "display_name": "Python [conda root]",
   "language": "python",
   "name": "conda-root-py"
  },
  "language_info": {
   "codemirror_mode": {
    "name": "ipython",
    "version": 2
   },
   "file_extension": ".py",
   "mimetype": "text/x-python",
   "name": "python",
   "nbconvert_exporter": "python",
   "pygments_lexer": "ipython2",
   "version": "2.7.12"
  }
 },
 "nbformat": 4,
 "nbformat_minor": 1
}
