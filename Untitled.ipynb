{
 "cells": [
  {
   "cell_type": "code",
   "execution_count": 4,
   "metadata": {
    "collapsed": false
   },
   "outputs": [],
   "source": [
    "from pynvml import *\n",
    "\n",
    "def startConnection():\n",
    "    try:\n",
    "        nvmlInit()\n",
    "        print(\"Initialized successfully\")\n",
    "    except NVMLError , err:\n",
    "        print(\"Failed to initialize NVML: \",err)\n",
    "        print(\"Exiting...\")\n",
    "        #os._exit(1)\n",
    "def closeConnection():\n",
    "    try:\n",
    "        nvmlShutdown()\n",
    "    except NVMLError, err:\n",
    "        print \"Error shutting down NVML:\"\n",
    "        return 1\n",
    "\n",
    "def getTemperature(gpu): \n",
    "    return nvmlDeviceGetTemperature(gpu, NVML_TEMPERATURE_GPU)\n",
    "\n",
    "def getUsedMemory(gpu):\n",
    "    return nvmlDeviceGetMemoryInfo(gpu).used\n",
    "\n",
    "def getTotalMemory(gpu):\n",
    "    return nvmlDeviceGetMemoryInfo(gpu).total\n",
    "\n"
   ]
  },
  {
   "cell_type": "code",
   "execution_count": 9,
   "metadata": {
    "collapsed": false
   },
   "outputs": [
    {
     "name": "stdout",
     "output_type": "stream",
     "text": [
      "Initialized successfully\n",
      "temperature: 32\n",
      "usedMemory: 327471104\n"
     ]
    }
   ],
   "source": [
    "startConnection()\n",
    "\n",
    "gpuCount = int(nvmlDeviceGetCount())\n",
    "gpu = nvmlDeviceGetHandleByIndex(0)\n",
    "# get GPU temperature\n",
    "\n",
    "\n",
    "print(\"temperature: \"+str(getTemperature(gpu)))\n",
    "print(\"usedMemory: \"+str(getUsedMemory(gpu)))"
   ]
  },
  {
   "cell_type": "code",
   "execution_count": null,
   "metadata": {
    "collapsed": true
   },
   "outputs": [],
   "source": []
  }
 ],
 "metadata": {
  "anaconda-cloud": {},
  "kernelspec": {
   "display_name": "Python [conda root]",
   "language": "python",
   "name": "conda-root-py"
  },
  "language_info": {
   "codemirror_mode": {
    "name": "ipython",
    "version": 2
   },
   "file_extension": ".py",
   "mimetype": "text/x-python",
   "name": "python",
   "nbconvert_exporter": "python",
   "pygments_lexer": "ipython2",
   "version": "2.7.12"
  }
 },
 "nbformat": 4,
 "nbformat_minor": 1
}
